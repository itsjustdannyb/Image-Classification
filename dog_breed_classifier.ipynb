{
  "nbformat": 4,
  "nbformat_minor": 0,
  "metadata": {
    "colab": {
      "provenance": [],
      "mount_file_id": "1MsQtSek3R9yF_w9rnrt9hNWXBAOxHuHH",
      "authorship_tag": "ABX9TyMsZckkVzfPcZwgvAlERHVZ"
    },
    "kernelspec": {
      "name": "python3",
      "display_name": "Python 3"
    },
    "language_info": {
      "name": "python"
    }
  },
  "cells": [
    {
      "cell_type": "code",
      "execution_count": 1,
      "metadata": {
        "id": "YYVY-8a6zV3J"
      },
      "outputs": [],
      "source": [
        "import os\n",
        "from PIL import Image # for image handling\n",
        "import numpy as np\n",
        "import matplotlib.pyplot as plt"
      ]
    },
    {
      "cell_type": "markdown",
      "source": [
        "## Data Processing"
      ],
      "metadata": {
        "id": "dvizGV-84aZJ"
      }
    },
    {
      "cell_type": "code",
      "source": [
        "import os\n",
        "from PIL import Image\n",
        "import numpy as np\n",
        "\n",
        "path = r\"/content/drive/MyDrive/datasets - images/dog-breed-images/dataset\"\n",
        "\n",
        "def show_paths(path, size=(250,250)):\n",
        "    images = [] # numerical\n",
        "    labels = []\n",
        "    dog_breeds = os.listdir(path)\n",
        "\n",
        "    for dog_breed in dog_breeds:\n",
        "        dog_folder = os.path.join(path, dog_breed)\n",
        "        if not os.path.isdir(dog_folder):\n",
        "            continue\n",
        "\n",
        "        for dog in os.listdir(dog_folder):\n",
        "            img_path = os.path.join(dog_folder, dog)\n",
        "            img = Image.open(img_path).convert(\"RGB\") # make image RGB\n",
        "            # img = img.resize(size, Image.ANTIALIAS) #antialias tries to retain image quality when resized\n",
        "            img = img.resize(size, Image.Resampling.LANCZOS) #Image.Resampling.LANCZOS updated version of Image.ANIALIAS\n",
        "\n",
        "            img_array = np.array(img) # height, width and channels\n",
        "\n",
        "            images.append(img_array)\n",
        "            labels.append(dog_breed)\n",
        "\n",
        "    images = np.array(images)\n",
        "    labels = np.array(labels)\n",
        "\n",
        "    return images, labels\n",
        "\n",
        "X, y = show_paths(path)\n",
        "\n",
        "print(X.shape)\n",
        "print(y.shape)"
      ],
      "metadata": {
        "colab": {
          "base_uri": "https://localhost:8080/"
        },
        "id": "ieVZLaqA0E8R",
        "outputId": "617c57f4-559b-4bf0-84ae-0306e3c60e74"
      },
      "execution_count": 2,
      "outputs": [
        {
          "output_type": "stream",
          "name": "stdout",
          "text": [
            "(967, 250, 250, 3)\n",
            "(967,)\n"
          ]
        }
      ]
    },
    {
      "cell_type": "markdown",
      "source": [
        "## Normalize data"
      ],
      "metadata": {
        "id": "KlhUGN_X43jL"
      }
    },
    {
      "cell_type": "code",
      "source": [
        "X_scaled = X / 225"
      ],
      "metadata": {
        "id": "aOgk13wO4vTP"
      },
      "execution_count": null,
      "outputs": []
    },
    {
      "cell_type": "code",
      "source": [],
      "metadata": {
        "id": "G70B_G6j5F_4"
      },
      "execution_count": 6,
      "outputs": []
    },
    {
      "cell_type": "code",
      "source": [],
      "metadata": {
        "id": "b1AvNpoD5Hcr"
      },
      "execution_count": null,
      "outputs": []
    }
  ]
}